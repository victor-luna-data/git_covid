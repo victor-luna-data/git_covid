{
 "cells": [
  {
   "cell_type": "code",
   "execution_count": 0,
   "metadata": {
    "application/vnd.databricks.v1+cell": {
     "cellMetadata": {
      "byteLimit": 2048000,
      "rowLimit": 10000
     },
     "inputWidgets": {},
     "nuid": "efd802a2-864e-4c72-ad37-75b3bdd38980",
     "showTitle": false,
     "tableResultSettingsMap": {},
     "title": ""
    }
   },
   "outputs": [],
   "source": [
    "from pyspark.sql.functions import col,lit,explode, sum, round"
   ]
  },
  {
   "cell_type": "markdown",
   "metadata": {
    "application/vnd.databricks.v1+cell": {
     "cellMetadata": {
      "byteLimit": 2048000,
      "rowLimit": 10000
     },
     "inputWidgets": {},
     "nuid": "64c2b8ae-c36e-4c0b-86ab-cb667e7dbbde",
     "showTitle": false,
     "tableResultSettingsMap": {},
     "title": ""
    }
   },
   "source": [
    "# World population"
   ]
  },
  {
   "cell_type": "markdown",
   "metadata": {
    "application/vnd.databricks.v1+cell": {
     "cellMetadata": {
      "byteLimit": 2048000,
      "rowLimit": 10000
     },
     "inputWidgets": {},
     "nuid": "b41bb758-cd3a-4c6b-a79c-98db3233dc74",
     "showTitle": false,
     "tableResultSettingsMap": {},
     "title": ""
    }
   },
   "source": [
    "## Read CSV"
   ]
  },
  {
   "cell_type": "code",
   "execution_count": 0,
   "metadata": {
    "application/vnd.databricks.v1+cell": {
     "cellMetadata": {
      "byteLimit": 2048000,
      "rowLimit": 10000
     },
     "inputWidgets": {},
     "nuid": "f3565e51-acc7-4fcb-9a87-717f5b9ad0a9",
     "showTitle": false,
     "tableResultSettingsMap": {},
     "title": ""
    }
   },
   "outputs": [],
   "source": [
    "volume_csv = '/Volumes/cat_covid/bronze/raw/unzip/API_SP.POP.TOTL_DS2_en_csv_v2_85220.csv'\n",
    "\n",
    "df = (spark.read.format('csv')\n",
    "      .option('skipRows',4)\n",
    "      .option('header',True)\n",
    "      .load(volume_csv))\n",
    "\n",
    "display(df)"
   ]
  },
  {
   "cell_type": "markdown",
   "metadata": {
    "application/vnd.databricks.v1+cell": {
     "cellMetadata": {
      "byteLimit": 2048000,
      "rowLimit": 10000
     },
     "inputWidgets": {},
     "nuid": "09ca60a4-033c-4fc0-920e-9f4f10e02e71",
     "showTitle": false,
     "tableResultSettingsMap": {},
     "title": ""
    }
   },
   "source": [
    "## Unpivot df"
   ]
  },
  {
   "cell_type": "code",
   "execution_count": 0,
   "metadata": {
    "application/vnd.databricks.v1+cell": {
     "cellMetadata": {
      "byteLimit": 2048000,
      "rowLimit": 10000
     },
     "inputWidgets": {},
     "nuid": "0c49161e-f3d1-4fce-97d7-d2a535aa7982",
     "showTitle": false,
     "tableResultSettingsMap": {},
     "title": ""
    }
   },
   "outputs": [],
   "source": [
    "df = df.drop('Indicator Name', 'Indicator Code').withColumnsRenamed({'Country Name':'Country_Name','Country Code':'Country_Code'})\n",
    "\n",
    "years = df.columns[2:]\n",
    "\n",
    "#unpivot\n",
    "df = (df.melt(ids=['Country_Name', 'Country_Code'],values=years,variableColumnName='Year', valueColumnName='Population'))\n"
   ]
  },
  {
   "cell_type": "code",
   "execution_count": 0,
   "metadata": {
    "application/vnd.databricks.v1+cell": {
     "cellMetadata": {
      "byteLimit": 2048000,
      "rowLimit": 10000
     },
     "inputWidgets": {},
     "nuid": "7fb0699b-ebcb-4a93-81a7-65d69051c4e4",
     "showTitle": false,
     "tableResultSettingsMap": {},
     "title": ""
    }
   },
   "outputs": [],
   "source": [
    "df = df.withColumn('Year', df.Year.cast('int')).withColumn('Population', round(df.Population.cast('double'),0).cast('bigint'))"
   ]
  },
  {
   "cell_type": "markdown",
   "metadata": {
    "application/vnd.databricks.v1+cell": {
     "cellMetadata": {
      "byteLimit": 2048000,
      "rowLimit": 10000
     },
     "inputWidgets": {},
     "nuid": "2f6d8cbd-4926-48ec-b1a5-0d8ee6d0998f",
     "showTitle": false,
     "tableResultSettingsMap": {},
     "title": ""
    }
   },
   "source": [
    "# Caribbean Netherlands"
   ]
  },
  {
   "cell_type": "markdown",
   "metadata": {
    "application/vnd.databricks.v1+cell": {
     "cellMetadata": {
      "byteLimit": 2048000,
      "rowLimit": 10000
     },
     "inputWidgets": {},
     "nuid": "0c30104e-ea8b-4c83-9368-e221e0810b98",
     "showTitle": false,
     "tableResultSettingsMap": {},
     "title": ""
    }
   },
   "source": [
    "## Read all json files"
   ]
  },
  {
   "cell_type": "code",
   "execution_count": 0,
   "metadata": {
    "application/vnd.databricks.v1+cell": {
     "cellMetadata": {
      "byteLimit": 2048000,
      "rowLimit": 10000
     },
     "inputWidgets": {},
     "nuid": "0b5939ee-537f-46a1-aef2-df2527df91cb",
     "showTitle": false,
     "tableResultSettingsMap": {},
     "title": ""
    }
   },
   "outputs": [],
   "source": [
    "json_path = 'abfss://bronze@storagegeneral00001.dfs.core.windows.net/volumes/raw_population/netherlands/*.json'\n",
    "\n",
    "df_cn_ = spark.read.format('json').option('multiline',True).load(json_path)\n",
    "\n",
    "df_cn_.display()"
   ]
  },
  {
   "cell_type": "code",
   "execution_count": 0,
   "metadata": {
    "application/vnd.databricks.v1+cell": {
     "cellMetadata": {
      "byteLimit": 2048000,
      "rowLimit": 10000
     },
     "inputWidgets": {},
     "nuid": "e9d3fa7a-4795-4197-9311-c4eb853dcf2d",
     "showTitle": false,
     "tableResultSettingsMap": {},
     "title": ""
    }
   },
   "outputs": [],
   "source": [
    "df_cn = (df_cn_\n",
    "         .select('value')\n",
    "         .withColumn('value', explode('value'))\n",
    "         .select(\n",
    "             col('value.Periods').alias('Year')\n",
    "             ,col('value.populationonjanuary1st_1').cast('int').alias('Population')\n",
    "             ,col('value.Sex').alias('Sex')\n",
    "             ,col('value.Age').alias('Age')\n",
    "             ,col('value.MaritalStatus').alias('MaritalStatus'))\n",
    "         .withColumn('Year', col('Year').substr(0,4).cast('int'))\n",
    "         )\n",
    "\n",
    "df_cn = df_cn.filter((col('Sex')=='T001038') & (col('Age')=='10000') & (col('MaritalStatus')=='T001019'))\n",
    "\n",
    "display(df_cn)"
   ]
  },
  {
   "cell_type": "code",
   "execution_count": 0,
   "metadata": {
    "application/vnd.databricks.v1+cell": {
     "cellMetadata": {
      "byteLimit": 2048000,
      "rowLimit": 10000
     },
     "inputWidgets": {},
     "nuid": "993fd3ae-974f-4ea0-bf0b-a15e988208b0",
     "showTitle": false,
     "tableResultSettingsMap": {},
     "title": ""
    }
   },
   "outputs": [],
   "source": [
    "df_cn =( df_cn.groupBy('Year').agg(sum('Population').alias('Population'))\n",
    "        .withColumn('Country_Name',lit('Bonaire, Sint Eustatius and Saba'))\n",
    "        .withColumn('Country_Code', lit('BQ'))\n",
    "        ).select('Country_Name', 'Country_Code', 'Year', 'Population')\n",
    "\n",
    "display(df_cn)         "
   ]
  },
  {
   "cell_type": "markdown",
   "metadata": {
    "application/vnd.databricks.v1+cell": {
     "cellMetadata": {
      "byteLimit": 2048000,
      "rowLimit": 10000
     },
     "inputWidgets": {},
     "nuid": "8ab90d41-1596-4dec-8855-8f3cfc22e450",
     "showTitle": false,
     "tableResultSettingsMap": {},
     "title": ""
    }
   },
   "source": [
    "# Union tables"
   ]
  },
  {
   "cell_type": "code",
   "execution_count": 0,
   "metadata": {
    "application/vnd.databricks.v1+cell": {
     "cellMetadata": {
      "byteLimit": 2048000,
      "rowLimit": 10000
     },
     "inputWidgets": {},
     "nuid": "7c0aab96-5262-469e-b5d7-cf3f984c9613",
     "showTitle": false,
     "tableResultSettingsMap": {},
     "title": ""
    }
   },
   "outputs": [],
   "source": [
    "try:\n",
    "    df = df.union(df_cn)\n",
    "except:\n",
    "    pass"
   ]
  },
  {
   "cell_type": "code",
   "execution_count": 0,
   "metadata": {
    "application/vnd.databricks.v1+cell": {
     "cellMetadata": {
      "byteLimit": 2048000,
      "rowLimit": 10000
     },
     "inputWidgets": {},
     "nuid": "f95bfb58-f280-46ee-9cf5-e979b713c3f6",
     "showTitle": false,
     "tableResultSettingsMap": {},
     "title": ""
    }
   },
   "outputs": [],
   "source": [
    "df = df.select(col('Country_Name').cast('string')\n",
    "               ,col('Country_Code').cast('string')\n",
    "               ,col('Year').cast('int')\n",
    "               ,col('Population').cast('bigint'))\n",
    "\n",
    "df.write.mode('overwrite').saveAsTable('cat_covid.silver.population')"
   ]
  }
 ],
 "metadata": {
  "application/vnd.databricks.v1+notebook": {
   "computePreferences": null,
   "dashboards": [],
   "environmentMetadata": {
    "base_environment": "",
    "environment_version": "2"
   },
   "inputWidgetPreferences": null,
   "language": "python",
   "notebookMetadata": {
    "pythonIndentUnit": 4
   },
   "notebookName": "silver_population_nb",
   "widgets": {}
  },
  "language_info": {
   "name": "python"
  }
 },
 "nbformat": 4,
 "nbformat_minor": 0
}
