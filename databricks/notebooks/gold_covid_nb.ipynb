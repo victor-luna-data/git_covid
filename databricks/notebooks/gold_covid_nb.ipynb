{
 "cells": [
  {
   "cell_type": "markdown",
   "metadata": {
    "application/vnd.databricks.v1+cell": {
     "cellMetadata": {},
     "inputWidgets": {},
     "nuid": "91bf0dc5-77ef-4070-8a5f-666f8fb979e4",
     "showTitle": false,
     "tableResultSettingsMap": {},
     "title": ""
    }
   },
   "source": [
    "This notebook creates the tables within gold layer"
   ]
  },
  {
   "cell_type": "code",
   "execution_count": 0,
   "metadata": {
    "application/vnd.databricks.v1+cell": {
     "cellMetadata": {
      "byteLimit": 2048000,
      "rowLimit": 10000
     },
     "inputWidgets": {},
     "nuid": "f298eb20-3815-4e9a-b4cf-5c7b3d119c04",
     "showTitle": false,
     "tableResultSettingsMap": {},
     "title": ""
    }
   },
   "outputs": [],
   "source": [
    "from pyspark.sql.functions import col, year, weekofyear, monotonically_increasing_id, sum, max, try_divide, lag\n",
    "from pyspark.sql.window import Window"
   ]
  },
  {
   "cell_type": "markdown",
   "metadata": {
    "application/vnd.databricks.v1+cell": {
     "cellMetadata": {},
     "inputWidgets": {},
     "nuid": "781aa91b-50ec-4bfd-9fb4-3833d25ec440",
     "showTitle": false,
     "tableResultSettingsMap": {},
     "title": ""
    }
   },
   "source": [
    "# Country_dim"
   ]
  },
  {
   "cell_type": "code",
   "execution_count": 0,
   "metadata": {
    "application/vnd.databricks.v1+cell": {
     "cellMetadata": {
      "byteLimit": 2048000,
      "rowLimit": 10000
     },
     "inputWidgets": {},
     "nuid": "5211cbc9-e371-4155-99a6-3d420c5b4dd8",
     "showTitle": false,
     "tableResultSettingsMap": {},
     "title": ""
    }
   },
   "outputs": [],
   "source": [
    "df_country = spark.table('cat_covid.silver.covid').select('Country_code', 'Country', 'WHO_Region').distinct().orderBy('Country', desc=True)\n",
    "\n",
    "df_country = df_country.withColumn('ID', 1 + monotonically_increasing_id())"
   ]
  },
  {
   "cell_type": "code",
   "execution_count": 0,
   "metadata": {
    "application/vnd.databricks.v1+cell": {
     "cellMetadata": {
      "byteLimit": 2048000,
      "rowLimit": 10000
     },
     "inputWidgets": {},
     "nuid": "5f0286e3-6412-4d8a-a790-e951d36928af",
     "showTitle": false,
     "tableResultSettingsMap": {},
     "title": ""
    }
   },
   "outputs": [],
   "source": [
    "df_country.write.mode('overwrite').format('delta').saveAsTable('cat_covid.gold.country_dim')"
   ]
  },
  {
   "cell_type": "markdown",
   "metadata": {
    "application/vnd.databricks.v1+cell": {
     "cellMetadata": {},
     "inputWidgets": {},
     "nuid": "7d783fc6-e825-48d3-afa7-4f689e2e8d5c",
     "showTitle": false,
     "tableResultSettingsMap": {},
     "title": ""
    }
   },
   "source": [
    "# Covid_fact"
   ]
  },
  {
   "cell_type": "code",
   "execution_count": 0,
   "metadata": {
    "application/vnd.databricks.v1+cell": {
     "cellMetadata": {
      "byteLimit": 2048000,
      "rowLimit": 10000
     },
     "inputWidgets": {},
     "nuid": "a033e5ea-5b43-4f93-be5b-451af5c53f0f",
     "showTitle": false,
     "tableResultSettingsMap": {},
     "title": ""
    }
   },
   "outputs": [],
   "source": [
    "df = (spark.table('cat_covid.silver.covid')\n",
    "      .withColumn('Year', year(col('Date_reported')))\n",
    "      .withColumn('Week', weekofyear(col('Date_reported')))\n",
    "      )\n",
    "df_pop = spark.table('cat_covid.silver.population').select('Country_Name', col('Year').alias('Year_pop'), 'Population')\n",
    "\n",
    "df_country = spark.table('cat_covid.gold.country_dim').select(col('Country_code').alias('country_code_dim'), col('ID').alias('ID_country'))\n"
   ]
  },
  {
   "cell_type": "code",
   "execution_count": 0,
   "metadata": {
    "application/vnd.databricks.v1+cell": {
     "cellMetadata": {
      "byteLimit": 2048000,
      "rowLimit": 10000
     },
     "inputWidgets": {},
     "nuid": "aeb4873f-b43a-4945-8215-70aae9487329",
     "showTitle": false,
     "tableResultSettingsMap": {},
     "title": ""
    }
   },
   "outputs": [],
   "source": [
    "df = (df\n",
    "      .join(df_pop, (df.Country == df_pop.Country_Name) & (df.Year == df_pop.Year_pop) , 'left')\n",
    "      .join(df_country, df.Country_code == df_country.country_code_dim, 'left')\n",
    "    #   .drop('Country_code', 'Country', 'Country_Name','country_code_dim', 'WHO_Region', 'Year_pop')\n",
    "      .select(\n",
    "          col('Date_reported').cast('date'),\n",
    "          col('New_cases').cast('integer'),\n",
    "          col('Cumulative_cases').cast('bigint'),\n",
    "          col('New_deaths').cast('integer'),\n",
    "          col('Cumulative_deaths').cast('bigint'),\n",
    "          col('Last_update').cast('date'),\n",
    "          col('Year').cast('integer'),\n",
    "          col('Week').cast('integer'),\n",
    "          col('Population').cast('bigint'),\n",
    "          col('ID_country').cast('long')\n",
    "      ))\n",
    "\n"
   ]
  },
  {
   "cell_type": "code",
   "execution_count": 0,
   "metadata": {
    "application/vnd.databricks.v1+cell": {
     "cellMetadata": {
      "byteLimit": 2048000,
      "rowLimit": 10000
     },
     "inputWidgets": {},
     "nuid": "e51a577a-1a1d-4cdc-b90f-009fbcb746b9",
     "showTitle": false,
     "tableResultSettingsMap": {},
     "title": ""
    }
   },
   "outputs": [],
   "source": [
    "df = df.groupBy('ID_country','Year','Week').agg(\n",
    "      max(col('Date_reported')).alias('Date_reported'),\n",
    "      sum(col('New_cases')).alias('New_cases'),\n",
    "      max(col('Cumulative_cases')).alias('Cumulative_cases'),\n",
    "      sum(col('New_deaths')).alias('New_deaths'),\n",
    "      max(col('Cumulative_deaths')).alias('Cumulative_deaths'),\n",
    "      max(col('Population')).alias('Population')\n",
    ")\n"
   ]
  },
  {
   "cell_type": "code",
   "execution_count": 0,
   "metadata": {
    "application/vnd.databricks.v1+cell": {
     "cellMetadata": {
      "byteLimit": 2048000,
      "rowLimit": 10000
     },
     "inputWidgets": {},
     "nuid": "278a12cd-7be1-457b-a137-9cda626d0d57",
     "showTitle": false,
     "tableResultSettingsMap": {},
     "title": ""
    }
   },
   "outputs": [],
   "source": [
    "df = (df\n",
    "      .withColumn('NewCases_ratio', try_divide(col('New_cases'), col('Population')) * 100000)\n",
    "      .withColumn('CumCases_ratio', try_divide(col('Cumulative_cases'), col('Population')) * 100000)\n",
    "      .withColumn('NewDeaths_ratio', try_divide(col('New_deaths'), col('Population')) * 100000)\n",
    "      .withColumn('CumDeaths_ratio', try_divide(col('Cumulative_deaths'), col('Population')) * 100000)\n",
    "      .withColumn('Fatality_ratio', try_divide(col('Cumulative_cases'), col('Cumulative_deaths')) )\n",
    ")\n",
    "\n",
    "window_spec = Window.partitionBy('ID_country').orderBy('Year', 'Week')\n",
    "df = (df\n",
    "      .withColumn('Week1_cases', lag('New_cases',1).over(window_spec))\n",
    "      .withColumn('Week1_deaths', lag('New_deaths',1).over(window_spec))\n",
    ")\n",
    "\n",
    "df = df.fillna(0)"
   ]
  },
  {
   "cell_type": "code",
   "execution_count": 0,
   "metadata": {
    "application/vnd.databricks.v1+cell": {
     "cellMetadata": {
      "byteLimit": 2048000,
      "rowLimit": 10000
     },
     "inputWidgets": {},
     "nuid": "d4de6385-902f-46c7-b441-6809e5ca4706",
     "showTitle": false,
     "tableResultSettingsMap": {},
     "title": ""
    }
   },
   "outputs": [],
   "source": [
    "df.write.mode('overwrite').format('delta').option('overwriteSchema', True).saveAsTable('cat_covid.gold.covid')"
   ]
  }
 ],
 "metadata": {
  "application/vnd.databricks.v1+notebook": {
   "computePreferences": null,
   "dashboards": [],
   "environmentMetadata": {
    "base_environment": "",
    "environment_version": "2"
   },
   "inputWidgetPreferences": null,
   "language": "python",
   "notebookMetadata": {
    "pythonIndentUnit": 4
   },
   "notebookName": "gold_covid_nb",
   "widgets": {}
  },
  "language_info": {
   "name": "python"
  }
 },
 "nbformat": 4,
 "nbformat_minor": 0
}
